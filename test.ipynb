{
 "cells": [
  {
   "cell_type": "code",
   "execution_count": 2,
   "metadata": {},
   "outputs": [
    {
     "data": {
      "text/plain": [
       "' Strip all metadata, enforce 1600px limit on dimensions, compress by 75%\\n'"
      ]
     },
     "execution_count": 2,
     "metadata": {},
     "output_type": "execute_result"
    }
   ],
   "source": [
    "\"\"\" Strip all metadata, enforce 1600px limit on dimensions, compress by 75%\n",
    "\"\"\""
   ]
  },
  {
   "cell_type": "code",
   "execution_count": 3,
   "metadata": {},
   "outputs": [],
   "source": [
    "from PIL import Image, ExifTags, TiffImagePlugin\n",
    "# import json\n",
    "import os\n",
    "from OsOps import Ops"
   ]
  },
  {
   "cell_type": "code",
   "execution_count": 4,
   "metadata": {},
   "outputs": [],
   "source": [
    "# if image above 1600 x 1600, reduce to comply\n",
    "def limited_dims( orig_size, limit = 1600 ):\n",
    "    mDim = max( orig_size ) # get largest dimension\n",
    "    # if exceed limit, reduce both dims by same divisor\n",
    "    # any float dim to int will distort up to a single pixel of width or height\n",
    "    if mDim > limit: return tuple( int( d / ( mDim / limit ) ) for d in orig_size )\n",
    "    else: return orig_size"
   ]
  },
  {
   "cell_type": "code",
   "execution_count": 5,
   "metadata": {},
   "outputs": [],
   "source": [
    "# Img = Image.open(f'ORDUP\\\\4 IMG_4357 copy.jpg')\n",
    "\n",
    "def getDT_taken( img ):\n",
    "    dt = img._getexif()[36867]  # code returns \"taken\" date\n",
    "    dt = \"_\".join( dt.split(' ') )\n",
    "    return \"\".join( dt.split(':') ) \n",
    "\n",
    "# print ( [ s for s in Img.getexif().keys() ] )\n",
    "# print ( [ s for s in Img.getexif().values() ] )"
   ]
  },
  {
   "cell_type": "code",
   "execution_count": 6,
   "metadata": {},
   "outputs": [],
   "source": [
    "def get_files( direc ):\n",
    "    return [ fname for fname in (file for file in os.listdir( direc )\n",
    "        if os.path.isfile(os.path.join( direc, file))) ]"
   ]
  },
  {
   "cell_type": "code",
   "execution_count": 7,
   "metadata": {},
   "outputs": [
    {
     "name": "stdout",
     "output_type": "stream",
     "text": [
      "output expected to take 78 seconds\n"
     ]
    }
   ],
   "source": [
    "originals_dir = 'ORDUP'\n",
    "\n",
    "for FName in ( fns := get_files( originals_dir ) ):\n",
    "    print( f\"output expected to take {len( fns ) * 78 } seconds\" )\n",
    "    Img = Image.open(f'{originals_dir}\\\\{FName}')\n",
    "    img_new = Image.new(Img.mode, Img.size)  # get new image model\n",
    "    img_new.putdata(Img.getdata())  # supply image data only, no exif\n",
    "    if 'P' in Img.mode: img_new.putpalette(Img.getpalette()) # Copy any palette\n",
    "    img_new_rsz = img_new.resize( limited_dims( Img.size ) )\n",
    "    img_new_rsz.save(f'STRIPPED\\\\RSTR_{getDT_taken( Img )}_PROC_{Ops().dtStamp()}.jpg')\n",
    "\n",
    "\n",
    "# print expectation on func start\n",
    "# 2 mins 19.6 secs for 180 items\n",
    "# 2 mins 20.4 secs for 180 items\n"
   ]
  },
  {
   "cell_type": "code",
   "execution_count": 48,
   "metadata": {},
   "outputs": [],
   "source": [
    "# def store_exif( fname, img_obj, exif_dict ):\n",
    "#     exif_dict[ fname ] = {\n",
    "#         ExifTags.TAGS[k]: v\n",
    "#         for k, v in img_obj._getexif().items()\n",
    "#         if k in ExifTags.TAGS \n",
    "#         }\n",
    "\n",
    "# store_exif( FName, Img, Exif_dict )  # keep exif for pers reference\n",
    "\n",
    "# # cast unserializable types inj exif dict\n",
    "# Exif_dict_cstd = {}\n",
    "\n",
    "# for k, v in Exif_dict.items():\n",
    "#     Exif_dict_cstd[ k ] = { kk : vv\n",
    "#             if kk in ExifTags.TAGS and type(v) is not bytes\n",
    "#             if type(vv) not in [bytes, TiffImagePlugin.IFDRational] \n",
    "#             else str(vv)\n",
    "#             for kk, vv in v.items()\n",
    "#             }\n",
    "\n",
    "# with open('Exif_dict.json', 'w') as fp: json.dump(Exif_dict_cstd, fp)\n"
   ]
  }
 ],
 "metadata": {
  "kernelspec": {
   "display_name": "Python 3",
   "language": "python",
   "name": "python3"
  },
  "language_info": {
   "codemirror_mode": {
    "name": "ipython",
    "version": 3
   },
   "file_extension": ".py",
   "mimetype": "text/x-python",
   "name": "python",
   "nbconvert_exporter": "python",
   "pygments_lexer": "ipython3",
   "version": "3.10.2"
  },
  "orig_nbformat": 4,
  "vscode": {
   "interpreter": {
    "hash": "52cfd43b47a0da422ff984351e3101fb107d004cc5cefdff8f6c6569cb00bf40"
   }
  }
 },
 "nbformat": 4,
 "nbformat_minor": 2
}
